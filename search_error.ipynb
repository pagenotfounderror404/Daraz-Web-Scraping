{
 "cells": [
  {
   "cell_type": "code",
   "execution_count": 1,
   "metadata": {},
   "outputs": [],
   "source": [
    "from selenium import webdriver\n",
    "from selenium.webdriver.edge.service import Service as EdgeService\n",
    "from selenium.webdriver.support.ui import WebDriverWait\n",
    "from selenium.webdriver.support import expected_conditions as EC\n",
    "from selenium.webdriver.common.by import By\n",
    "import pprint\n",
    "\n",
    "\n",
    "service = EdgeService(executable_path=r\"..\\edgedriver_win64\\msedgedriver.exe\")\n",
    "browser = webdriver.Edge(service=service)\n"
   ]
  },
  {
   "cell_type": "code",
   "execution_count": 2,
   "metadata": {},
   "outputs": [],
   "source": [
    "browser.get(\"https://sellercenter.daraz.com.np/apps/seller/login\")"
   ]
  },
  {
   "cell_type": "code",
   "execution_count": 4,
   "metadata": {},
   "outputs": [
    {
     "name": "stderr",
     "output_type": "stream",
     "text": [
      "\n",
      "KeyboardInterrupt\n",
      "\n"
     ]
    }
   ],
   "source": [
    "\n",
    "phone_input = browser.find_element(By.XPATH, '//*[@id=\"account\"]')\n",
    "phone_input.send_keys('9811400555')\n",
    "\n",
    "password_input = browser.find_element(By.XPATH, '//*[@id=\"password\"]')\n",
    "password_input.send_keys('Alam@5555')\n",
    "\n",
    "login_button = browser.find_element(By.XPATH, '//*[@id=\"root\"]/div/div[2]/div[1]/div/div[2]/div/div/div[2]/form/div[3]/button')\n",
    "login_button.click()"
   ]
  },
  {
   "cell_type": "code",
   "execution_count": 7,
   "metadata": {},
   "outputs": [],
   "source": [
    "def ul_elements(browser):\n",
    "    try:\n",
    "        ul_list=browser.find_element(By.CSS_SELECTOR, \".next-overlay-wrapper.opened\").text.split('\\n')\n",
    "        return ul_list\n",
    "    except:\n",
    "        return []\n",
    "            \n",
    "            "
   ]
  },
  {
   "cell_type": "code",
   "execution_count": 8,
   "metadata": {},
   "outputs": [],
   "source": [
    "def required_attribute(string):\n",
    "    # Split the input string into lines\n",
    "    lines = string.split('\\n')\n",
    "\n",
    "    # Extract elements that have '*' before them\n",
    "    extracted_elements = [lines[i + 1].strip() for i in range(len(lines) - 1) if lines[i].strip() == '*']\n",
    "    return extracted_elements"
   ]
  },
  {
   "cell_type": "code",
   "execution_count": 9,
   "metadata": {},
   "outputs": [],
   "source": [
    "from selenium.webdriver.common.by import By\n",
    "from selenium.webdriver.support.ui import WebDriverWait\n",
    "from selenium.webdriver.support import expected_conditions as EC\n",
    "from selenium.common.exceptions import ElementClickInterceptedException\n",
    "import time\n",
    "\n",
    "\n",
    "def attribute_extractor_obj(browser):\n",
    "    wait = WebDriverWait(browser, 10)\n",
    "    element = wait.until(EC.element_to_be_clickable((By.XPATH, '//*[@id=\"root\"]/section/div[2]/div/div[1]/div/div/div[2]/form/div/div[1]/div[2]/div/div/div/div[2]/div[1]/div[2]/button')))\n",
    "\n",
    "    # Scroll the element into view and allow some time for the scrolling\n",
    "    browser.execute_script(\"arguments[0].scrollIntoView(true);\", element)\n",
    "    time.sleep(2)\n",
    "\n",
    "    # Try clicking with exception handling for intercepted clicks\n",
    "    try:\n",
    "        element.click()\n",
    "        time.sleep(2)  # Extra wait after the click\n",
    "    except ElementClickInterceptedException:\n",
    "        print(\"Element click intercepted, retrying with JavaScript click.\")\n",
    "        # Retry the click using JavaScript if intercepted\n",
    "        browser.execute_script(\"arguments[0].click();\", element)\n",
    "        time.sleep(2)\n",
    "     # Allow time for the UI to update\n",
    "\n",
    "    # Locate the grid containing attribute options\n",
    "    grid = wait.until(EC.presence_of_element_located((By.XPATH, \"/html/body/div[1]/section/div[2]/div/div[1]/div/div/div[2]/form/div/div[1]/div[2]/div/div/div/div[2]/div[1]/div[1]/div\")))\n",
    "\n",
    "    all_fields=grid.text\n",
    "    text = required_attribute(all_fields) or ['']\n",
    "    attribute_obj = []\n",
    "    if len(text)<=1:\n",
    "         return [{\n",
    "                \"name\": \"Brand\",\n",
    "                \"type\": \"list\",\n",
    "                \"multiselect\": False,\n",
    "                \"value\": []\n",
    "            }]\n",
    "    else: \n",
    "        \n",
    "        input = grid.find_elements(By.TAG_NAME, 'input')\n",
    "        attribute_obj.append({\n",
    "                \"name\": \"Brand\",\n",
    "                \"type\": \"list\",\n",
    "                \"multiselect\": False,\n",
    "                \"value\": []\n",
    "            })\n",
    "        for i in range(1,len(text)):\n",
    "                # Click the input field\n",
    "            browser.execute_script(\"arguments[0].scrollIntoView(true);\", input[i])  # Ensure element is in view\n",
    "            input[i].click()\n",
    "            time.sleep(3)  # Give time for dropdowns to appear\n",
    "\n",
    "            # Determine the type of input field\n",
    "            type_obj = 'list'\n",
    "            value = ul_elements(browser)\n",
    "\n",
    "            if 'Not Found' in value:\n",
    "                value = []\n",
    "            elif len(value) == 0:\n",
    "                value = None\n",
    "                type_obj = \"text\"\n",
    "\n",
    "            # Check if the input field allows multiple selection\n",
    "            multiselectable = 'aria-multiselectable=\"true\"' in input[i].get_attribute('outerHTML')\n",
    "\n",
    "            # Append attribute details to the list\n",
    "            attribute_obj.append({\n",
    "                \"name\": text[i],\n",
    "                \"type\": type_obj,\n",
    "                \"multiselect\": multiselectable,\n",
    "                \"value\": value\n",
    "            })\n",
    "                \n",
    "\n",
    "        return attribute_obj"
   ]
  },
  {
   "cell_type": "code",
   "execution_count": 10,
   "metadata": {},
   "outputs": [],
   "source": [
    "import json\n",
    "with open('search_error.json', 'w') as json_file:\n",
    "    json.dump(attribute_extractor_obj(browser), json_file, indent=4)"
   ]
  },
  {
   "cell_type": "code",
   "execution_count": 8,
   "metadata": {},
   "outputs": [],
   "source": [
    "import json\n",
    "\n",
    "# Path to your JSON file\n",
    "file_path = 'categories_reference.json'  # Adjust the path if necessary\n",
    "\n",
    "# Load the JSON data\n",
    "with open(file_path, 'r') as file:\n",
    "    data = json.load(file)   \n",
    "\n",
    "paths = []\n",
    "\n",
    "def find_paths(d, current_path=None):\n",
    "    if current_path is None:\n",
    "        current_path = []\n",
    "    \n",
    "    for k, v in d.items():\n",
    "        new_path = current_path + [k]  # Create a new path as a list\n",
    "        if isinstance(v, dict) and v:  # Check if the value is a non-empty dict\n",
    "            find_paths(v, new_path)\n",
    "        else:  # Leaf node (empty dict)\n",
    "            paths.append(new_path)  \n",
    "find_paths(data)\n",
    "path_str=[' > '.join(path) for path in paths]\n"
   ]
  },
  {
   "cell_type": "code",
   "execution_count": null,
   "metadata": {},
   "outputs": [],
   "source": []
  },
  {
   "cell_type": "code",
   "execution_count": 21,
   "metadata": {},
   "outputs": [
    {
     "name": "stdout",
     "output_type": "stream",
     "text": [
      "846\n"
     ]
    }
   ],
   "source": [
    "import json\n",
    "with open('Attributes_batch1.json', 'r') as json_file:\n",
    "    data=json.load(json_file)\n",
    "    print(path_str.index(data[-1]['Category']))"
   ]
  },
  {
   "cell_type": "code",
   "execution_count": 26,
   "metadata": {},
   "outputs": [
    {
     "name": "stdout",
     "output_type": "stream",
     "text": [
      "847 999\n"
     ]
    }
   ],
   "source": [
    "import json\n",
    "with open('Attributes_batch2.json', 'r') as json_file:\n",
    "    data2=json.load(json_file)\n",
    "    print(path_str.index(data2[0]['Category']), path_str.index(data2[-1]['Category']))"
   ]
  },
  {
   "cell_type": "code",
   "execution_count": 27,
   "metadata": {},
   "outputs": [
    {
     "name": "stdout",
     "output_type": "stream",
     "text": [
      "Merging completed and saved to Merged_Attributes.json\n"
     ]
    }
   ],
   "source": [
    "import json\n",
    "\n",
    "with open('Attributes_batch1.json', 'r') as file1, open('Attributes_batch2.json', 'r') as file2:\n",
    "    batch1 = json.load(file1)\n",
    "    batch2 = json.load(file2)\n",
    "\n",
    "batch1.extend(batch2)\n",
    "\n",
    "with open('Attribute_batch_0.json', 'w') as outfile:\n",
    "    json.dump(batch1, outfile)\n",
    "\n",
    "print(\"Merging completed and saved to Merged_Attributes.json\")\n"
   ]
  }
 ],
 "metadata": {
  "kernelspec": {
   "display_name": "venv",
   "language": "python",
   "name": "python3"
  },
  "language_info": {
   "codemirror_mode": {
    "name": "ipython",
    "version": 3
   },
   "file_extension": ".py",
   "mimetype": "text/x-python",
   "name": "python",
   "nbconvert_exporter": "python",
   "pygments_lexer": "ipython3",
   "version": "3.12.7"
  }
 },
 "nbformat": 4,
 "nbformat_minor": 2
}
