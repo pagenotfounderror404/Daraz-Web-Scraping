{
 "cells": [
  {
   "cell_type": "code",
   "execution_count": 90,
   "metadata": {},
   "outputs": [],
   "source": [
    "from selenium import webdriver\n",
    "from selenium.webdriver.edge.service import Service as EdgeService\n",
    "from selenium.webdriver.support.ui import WebDriverWait\n",
    "from selenium.webdriver.support import expected_conditions as EC\n",
    "from selenium.webdriver.common.by import By\n",
    "import pprint"
   ]
  },
  {
   "cell_type": "code",
   "execution_count": 91,
   "metadata": {},
   "outputs": [],
   "source": [
    "from selenium.webdriver.edge.options import Options\n",
    "\n",
    "# Specify your Edge profile path\n",
    "profile_path = r\"/Users/Ayush.Chakraborty/Library/Application Support/Microsoft Edge/Default\"\n",
    "\n",
    "options = Options()\n",
    "options.add_argument(f\"user-data-dir={profile_path}\")  # Add the profile path\n",
    "\n",
    "service = EdgeService(executable_path=r\"../edgedriver_mac64/msedgedriver\")\n",
    "browser = webdriver.Edge(service=service)\n",
    "\n"
   ]
  },
  {
   "cell_type": "code",
   "execution_count": 92,
   "metadata": {},
   "outputs": [],
   "source": [
    "browser.get(\"https://sellercenter.daraz.com.np/apps/seller/login\")"
   ]
  },
  {
   "cell_type": "code",
   "execution_count": 93,
   "metadata": {},
   "outputs": [],
   "source": [
    "\n",
    "phone_input = browser.find_element(By.XPATH, '//*[@id=\"account\"]')\n",
    "phone_input.send_keys('9811400555')\n",
    "\n",
    "password_input = browser.find_element(By.XPATH, '//*[@id=\"password\"]')\n",
    "password_input.send_keys('Alam@5555')\n",
    "\n",
    "login_button = browser.find_element(By.XPATH, '//*[@id=\"root\"]/div/div[2]/div[1]/div/div[2]/div/div/div[2]/form/div[3]/button')\n",
    "login_button.click()"
   ]
  },
  {
   "cell_type": "code",
   "execution_count": 94,
   "metadata": {},
   "outputs": [],
   "source": [
    "browser.get(\"https://sellercenter.daraz.com.np/apps/product/publish\")"
   ]
  },
  {
   "cell_type": "code",
   "execution_count": 95,
   "metadata": {},
   "outputs": [],
   "source": [
    "import json\n",
    "\n",
    "# Path to your JSON file\n",
    "file_path = 'categories_reference.json'  # Adjust the path if necessary\n",
    "\n",
    "# Load the JSON data\n",
    "with open(file_path, 'r') as file:\n",
    "    data = json.load(file)   \n",
    "\n",
    "paths = []\n",
    "\n",
    "def find_paths(d, current_path=None):\n",
    "    if current_path is None:\n",
    "        current_path = []\n",
    "    \n",
    "    for k, v in d.items():\n",
    "        new_path = current_path + [k]  # Create a new path as a list\n",
    "        if isinstance(v, dict) and v:  # Check if the value is a non-empty dict\n",
    "            find_paths(v, new_path)\n",
    "        else:  # Leaf node (empty dict)\n",
    "            paths.append(new_path)  "
   ]
  },
  {
   "cell_type": "code",
   "execution_count": 96,
   "metadata": {},
   "outputs": [],
   "source": [
    "find_paths(data)"
   ]
  },
  {
   "cell_type": "code",
   "execution_count": 97,
   "metadata": {},
   "outputs": [],
   "source": [
    "path_str=[' > '.join(path) for path in paths]"
   ]
  },
  {
   "cell_type": "code",
   "execution_count": null,
   "metadata": {},
   "outputs": [],
   "source": [
    "path_str"
   ]
  },
  {
   "cell_type": "code",
   "execution_count": 99,
   "metadata": {},
   "outputs": [],
   "source": [
    "def ul_elements(browser):\n",
    "    try:\n",
    "        ul_list=browser.find_element(By.CSS_SELECTOR, \".next-overlay-wrapper.opened\").text.split('\\n')\n",
    "        return ul_list\n",
    "    except:\n",
    "        return []\n",
    "            \n",
    "            "
   ]
  },
  {
   "cell_type": "code",
   "execution_count": 100,
   "metadata": {},
   "outputs": [],
   "source": [
    "def required_attribute(string):\n",
    "    # Split the input string into lines\n",
    "    lines = string.split('\\n')\n",
    "\n",
    "    # Extract elements that have '*' before them\n",
    "    extracted_elements = [lines[i + 1].strip() for i in range(len(lines) - 1) if lines[i].strip() == '*']\n",
    "    return extracted_elements"
   ]
  },
  {
   "cell_type": "code",
   "execution_count": 103,
   "metadata": {},
   "outputs": [],
   "source": [
    "from selenium.webdriver.common.by import By\n",
    "from selenium.webdriver.support.ui import WebDriverWait\n",
    "from selenium.webdriver.support import expected_conditions as EC\n",
    "from selenium.common.exceptions import ElementClickInterceptedException\n",
    "import time\n",
    "attribute_cache={}\n",
    "\n",
    "def attribute_extractor_obj(browser,path):\n",
    "    wait = WebDriverWait(browser, 10)\n",
    "    element = wait.until(EC.element_to_be_clickable((By.XPATH, '//*[@id=\"root\"]/section/div[2]/div/div[1]/div/div/div[2]/form/div/div[1]/div[2]/div/div/div/div[2]/div[1]/div[2]/button')))\n",
    "\n",
    "    # Scroll the element into view and allow some time for the scrolling\n",
    "    browser.execute_script(\"arguments[0].scrollIntoView(true);\", element)\n",
    "    time.sleep(2)\n",
    "\n",
    "    # Try clicking with exception handling for intercepted clicks\n",
    "    try:\n",
    "        element.click()\n",
    "        time.sleep(2)  # Extra wait after the click\n",
    "    except ElementClickInterceptedException:\n",
    "        print(\"Element click intercepted, retrying with JavaScript click.\")\n",
    "        # Retry the click using JavaScript if intercepted\n",
    "        browser.execute_script(\"arguments[0].click();\", element)\n",
    "        time.sleep(2)\n",
    "     # Allow time for the UI to update\n",
    "\n",
    "    # Locate the grid containing attribute options\n",
    "    grid = wait.until(EC.presence_of_element_located((By.XPATH, \"/html/body/div[1]/section/div[2]/div/div[1]/div/div/div[2]/form/div/div[1]/div[2]/div/div/div/div[2]/div[1]/div[1]/div\")))\n",
    "\n",
    "    all_fields=grid.text\n",
    "    text = required_attribute(all_fields) or ['']\n",
    "    attribute_obj = []\n",
    "    cache_key=path.split(' > ')[0]+' '+','.join(text)\n",
    "    if len(text)<=1:\n",
    "         return [{\n",
    "                \"name\": \"Brand\",\n",
    "                \"type\": \"list\",\n",
    "                \"multiselect\": False,\n",
    "                \"value\": []\n",
    "            }]\n",
    "    elif cache_key in attribute_cache:\n",
    "        return attribute_cache[cache_key]\n",
    "    else: \n",
    "        \n",
    "        input = grid.find_elements(By.TAG_NAME, 'input')\n",
    "        attribute_obj.append({\n",
    "                \"name\": \"Brand\",\n",
    "                \"type\": \"list\",\n",
    "                \"multiselect\": False,\n",
    "                \"value\": []\n",
    "            })\n",
    "        for i in range(1,len(text)):\n",
    "                # Click the input field\n",
    "            browser.execute_script(\"arguments[0].scrollIntoView(true);\", input[i])  # Ensure element is in view\n",
    "            input[i].click()\n",
    "            time.sleep(3)  # Give time for dropdowns to appear\n",
    "\n",
    "            # Determine the type of input field\n",
    "            type_obj = 'list'\n",
    "            value = ul_elements(browser)\n",
    "\n",
    "            if 'Not Found' in value:\n",
    "                value = []\n",
    "            elif len(value) == 0:\n",
    "                value = None\n",
    "                type_obj = \"text\"\n",
    "\n",
    "            # Check if the input field allows multiple selection\n",
    "            multiselectable = 'aria-multiselectable=\"true\"' in input[i].get_attribute('outerHTML')\n",
    "\n",
    "            # Append attribute details to the list\n",
    "            attribute_obj.append({\n",
    "                \"name\": text[i],\n",
    "                \"type\": type_obj,\n",
    "                \"multiselect\": multiselectable,\n",
    "                \"value\": value\n",
    "            })\n",
    "        attribute_cache[cache_key]=attribute_obj\n",
    "                \n",
    "\n",
    "        return attribute_obj"
   ]
  },
  {
   "cell_type": "code",
   "execution_count": 104,
   "metadata": {},
   "outputs": [],
   "source": [
    "attributes = []"
   ]
  },
  {
   "cell_type": "code",
   "execution_count": null,
   "metadata": {},
   "outputs": [],
   "source": [
    "wait = WebDriverWait(browser, 10)\n",
    "batch_start=3000\n",
    "browser.refresh()\n",
    "for path in path_str[batch_start:4000]:\n",
    "    print(f'Processing {path_str.index(path)}: {path}')\n",
    "    if \"test\" not in path.lower():\n",
    "        try:\n",
    "            # Wait for the category dropdown to be clickable\n",
    "            category_dropdown = wait.until(EC.element_to_be_clickable((By.XPATH, \"//input[@placeholder='Please select category or search with keyword']\")))\n",
    "            category_dropdown.click()\n",
    "            time.sleep(3)\n",
    "\n",
    "\n",
    "            # Click on the search field to search categories\n",
    "            search_category = wait.until(EC.element_to_be_clickable((By.XPATH, '//*[@placeholder=\"Search category\"]')))\n",
    "            search_category.click()\n",
    "            time.sleep(3)\n",
    "            search_category.send_keys(path)\n",
    "            time.sleep(2)\n",
    "\n",
    "            # Select the first category from the dropdown list\n",
    "            first_cat_select = wait.until(EC.presence_of_element_located((By.CSS_SELECTOR, \"body > div.next-overlay-wrapper.opened > div > div > div.gc-category-cascade-view.aplus-module-auto-exp > div > div.category-search-input.aplus-auto-exp > div ul li:first-child\")))\n",
    "            first_cat_select.click()\n",
    "            time.sleep(3)\n",
    "\n",
    "            # Confirm category selection\n",
    "            confirm_button = wait.until(EC.element_to_be_clickable((By.XPATH, \"//button[@data-spm='d_category_selector_confirm_btn']\")))\n",
    "            confirm_button.click()\n",
    "            time.sleep(5)\n",
    "    \n",
    "\n",
    "            # Extract attributes\n",
    "            attribute = attribute_extractor_obj(browser,path)\n",
    "            attributes.append({\n",
    "                'Category': path,\n",
    "                'Attribute': attribute\n",
    "            })\n",
    "\n",
    "            # Refresh the page\n",
    "            browser.refresh()\n",
    "            time.sleep(5)\n",
    "\n",
    "        except Exception as e:\n",
    "            # Handle errors and continue with the next category\n",
    "            print(f\"Error processing category: {path}\")\n",
    "            attributes.append({\n",
    "                'Category': path,\n",
    "                'Attribute': None\n",
    "            })\n",
    "            browser.refresh()\n",
    "            time.sleep(5)\n",
    "            continue"
   ]
  },
  {
   "cell_type": "code",
   "execution_count": 112,
   "metadata": {},
   "outputs": [],
   "source": [
    "failed_items=[[attributes.index(i), i['Category']] for i in attributes if i['Attribute']==None]"
   ]
  },
  {
   "cell_type": "code",
   "execution_count": 113,
   "metadata": {},
   "outputs": [
    {
     "data": {
      "text/plain": [
       "0"
      ]
     },
     "execution_count": 113,
     "metadata": {},
     "output_type": "execute_result"
    }
   ],
   "source": [
    "len(failed_items)"
   ]
  },
  {
   "cell_type": "code",
   "execution_count": null,
   "metadata": {},
   "outputs": [],
   "source": [
    "for path in failed_items:\n",
    "    print(f'Processing {path_str.index(path[1])}: {path[1]}')\n",
    "    if \"Test\" not in path[1]:\n",
    "        try:\n",
    "            # Wait for the category dropdown to be clickable\n",
    "            category_dropdown = wait.until(EC.element_to_be_clickable((By.XPATH, \"//input[@placeholder='Please select category or search with keyword']\")))\n",
    "            category_dropdown.click()\n",
    "            time.sleep(3)\n",
    "\n",
    "            # Click on the search field to search categories\n",
    "            search_category = wait.until(EC.element_to_be_clickable((By.XPATH, '//*[@placeholder=\"Search category\"]')))\n",
    "            search_category.click()\n",
    "            time.sleep(2)\n",
    "            search_category.send_keys(path[1])\n",
    "\n",
    "            # Select the first category from the dropdown list\n",
    "            first_cat_select = wait.until(EC.presence_of_element_located((By.CSS_SELECTOR, \"body > div.next-overlay-wrapper.opened > div > div > div.gc-category-cascade-view.aplus-module-auto-exp > div > div.category-search-input.aplus-auto-exp > div ul li:first-child\")))\n",
    "            first_cat_select.click()\n",
    "            time.sleep(3)\n",
    "\n",
    "            # Confirm category selection\n",
    "            confirm_button = wait.until(EC.element_to_be_clickable((By.XPATH, \"//button[@data-spm='d_category_selector_confirm_btn']\")))\n",
    "            confirm_button.click()\n",
    "            time.sleep(5)\n",
    "\n",
    "            # Extract attributes\n",
    "            attribute = attribute_extractor_obj(browser, path[1])\n",
    "\n",
    "            attributes[path[0]]['Attribute']=attribute\n",
    "            # attributes.append({\n",
    "            #     'Category': path,\n",
    "            #     'Attribute': attribute\n",
    "            # })\n",
    "            attributes\n",
    "\n",
    "            # Refresh the page\n",
    "            browser.refresh()\n",
    "            time.sleep(5)\n",
    "\n",
    "        except Exception as e:\n",
    "            # Handle errors and continue with the next category\n",
    "            print(f\"Error processing category: {path[1]}, Error:{e}\")\n",
    "            # attributes.append({\n",
    "            #     'Category': path,\n",
    "            #     'Attribute': None\n",
    "            # })\n",
    "            browser.refresh()\n",
    "            time.sleep(5)\n",
    "            continue\n"
   ]
  },
  {
   "cell_type": "code",
   "execution_count": 114,
   "metadata": {},
   "outputs": [],
   "source": [
    "import json\n",
    "with open('Attributes_batch5.json', 'w') as json_file:\n",
    "    json.dump(attributes, json_file, indent=4)"
   ]
  },
  {
   "cell_type": "code",
   "execution_count": 125,
   "metadata": {},
   "outputs": [],
   "source": [
    "import json\n",
    "with open('total_attributes.json', 'w') as json_file:\n",
    "    json.dump(path_str, json_file, indent=4)"
   ]
  }
 ],
 "metadata": {
  "kernelspec": {
   "display_name": "venv",
   "language": "python",
   "name": "python3"
  },
  "language_info": {
   "codemirror_mode": {
    "name": "ipython",
    "version": 3
   },
   "file_extension": ".py",
   "mimetype": "text/x-python",
   "name": "python",
   "nbconvert_exporter": "python",
   "pygments_lexer": "ipython3",
   "version": "3.12.7"
  }
 },
 "nbformat": 4,
 "nbformat_minor": 2
}
